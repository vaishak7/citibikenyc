{
 "cells": [
  {
   "cell_type": "code",
   "execution_count": 2,
   "id": "d2177c58",
   "metadata": {},
   "outputs": [
    {
     "name": "stdout",
     "output_type": "stream",
     "text": [
      "Loading Citi Bike data from 2023 to 2023\n",
      "\n",
      "📁 Looking for monthly zips in: C:\\Users\\VAISHAK\\OneDrive\\Desktop\\citibikenyc\\data\\raw\\2023-citibike-tripdata\\2023-citibike-tripdata\n",
      "\n",
      "📁 Checking for CSVs in: C:\\Users\\VAISHAK\\OneDrive\\Desktop\\citibikenyc\\data\\raw\\2023-citibike-tripdata\\2023-citibike-tripdata\\202301-citibike-tripdata\n",
      "🗂️ Reading 202301-citibike-tripdata_1.csv\n"
     ]
    },
    {
     "name": "stderr",
     "output_type": "stream",
     "text": [
      "c:\\Users\\VAISHAK\\OneDrive\\Desktop\\citibikenyc\\src\\data_utils.py:203: DtypeWarning: Columns (5,7) have mixed types. Specify dtype option on import or set low_memory=False.\n",
      "  df = pd.read_csv(csv_file)\n",
      "c:\\Users\\VAISHAK\\OneDrive\\Desktop\\citibikenyc\\src\\data_utils.py:111: SettingWithCopyWarning: \n",
      "A value is trying to be set on a copy of a slice from a DataFrame.\n",
      "Try using .loc[row_indexer,col_indexer] = value instead\n",
      "\n",
      "See the caveats in the documentation: https://pandas.pydata.org/pandas-docs/stable/user_guide/indexing.html#returning-a-view-versus-a-copy\n",
      "  df['start_station_id'] = df['start_station_id'].astype(str)\n"
     ]
    },
    {
     "name": "stdout",
     "output_type": "stream",
     "text": [
      "🗂️ Reading 202301-citibike-tripdata_2.csv\n"
     ]
    },
    {
     "name": "stderr",
     "output_type": "stream",
     "text": [
      "c:\\Users\\VAISHAK\\OneDrive\\Desktop\\citibikenyc\\src\\data_utils.py:203: DtypeWarning: Columns (5,7) have mixed types. Specify dtype option on import or set low_memory=False.\n",
      "  df = pd.read_csv(csv_file)\n"
     ]
    },
    {
     "name": "stdout",
     "output_type": "stream",
     "text": [
      "✅ Finished processing for 2023-01\n",
      "\n",
      "📁 Checking for CSVs in: C:\\Users\\VAISHAK\\OneDrive\\Desktop\\citibikenyc\\data\\raw\\2023-citibike-tripdata\\2023-citibike-tripdata\\202302-citibike-tripdata\n",
      "🗂️ Reading 202302-citibike-tripdata_1.csv\n"
     ]
    },
    {
     "name": "stderr",
     "output_type": "stream",
     "text": [
      "c:\\Users\\VAISHAK\\OneDrive\\Desktop\\citibikenyc\\src\\data_utils.py:203: DtypeWarning: Columns (5,7) have mixed types. Specify dtype option on import or set low_memory=False.\n",
      "  df = pd.read_csv(csv_file)\n",
      "c:\\Users\\VAISHAK\\OneDrive\\Desktop\\citibikenyc\\src\\data_utils.py:111: SettingWithCopyWarning: \n",
      "A value is trying to be set on a copy of a slice from a DataFrame.\n",
      "Try using .loc[row_indexer,col_indexer] = value instead\n",
      "\n",
      "See the caveats in the documentation: https://pandas.pydata.org/pandas-docs/stable/user_guide/indexing.html#returning-a-view-versus-a-copy\n",
      "  df['start_station_id'] = df['start_station_id'].astype(str)\n"
     ]
    },
    {
     "name": "stdout",
     "output_type": "stream",
     "text": [
      "🗂️ Reading 202302-citibike-tripdata_2.csv\n"
     ]
    },
    {
     "name": "stderr",
     "output_type": "stream",
     "text": [
      "c:\\Users\\VAISHAK\\OneDrive\\Desktop\\citibikenyc\\src\\data_utils.py:203: DtypeWarning: Columns (5,7) have mixed types. Specify dtype option on import or set low_memory=False.\n",
      "  df = pd.read_csv(csv_file)\n"
     ]
    },
    {
     "name": "stdout",
     "output_type": "stream",
     "text": [
      "✅ Finished processing for 2023-02\n",
      "\n",
      "📁 Checking for CSVs in: C:\\Users\\VAISHAK\\OneDrive\\Desktop\\citibikenyc\\data\\raw\\2023-citibike-tripdata\\2023-citibike-tripdata\\202303-citibike-tripdata\n",
      "🗂️ Reading 202303-citibike-tripdata_1.csv\n"
     ]
    },
    {
     "name": "stderr",
     "output_type": "stream",
     "text": [
      "c:\\Users\\VAISHAK\\OneDrive\\Desktop\\citibikenyc\\src\\data_utils.py:203: DtypeWarning: Columns (7) have mixed types. Specify dtype option on import or set low_memory=False.\n",
      "  df = pd.read_csv(csv_file)\n",
      "c:\\Users\\VAISHAK\\OneDrive\\Desktop\\citibikenyc\\src\\data_utils.py:111: SettingWithCopyWarning: \n",
      "A value is trying to be set on a copy of a slice from a DataFrame.\n",
      "Try using .loc[row_indexer,col_indexer] = value instead\n",
      "\n",
      "See the caveats in the documentation: https://pandas.pydata.org/pandas-docs/stable/user_guide/indexing.html#returning-a-view-versus-a-copy\n",
      "  df['start_station_id'] = df['start_station_id'].astype(str)\n"
     ]
    },
    {
     "name": "stdout",
     "output_type": "stream",
     "text": [
      "🗂️ Reading 202303-citibike-tripdata_2.csv\n"
     ]
    },
    {
     "name": "stderr",
     "output_type": "stream",
     "text": [
      "c:\\Users\\VAISHAK\\OneDrive\\Desktop\\citibikenyc\\src\\data_utils.py:203: DtypeWarning: Columns (7) have mixed types. Specify dtype option on import or set low_memory=False.\n",
      "  df = pd.read_csv(csv_file)\n",
      "c:\\Users\\VAISHAK\\OneDrive\\Desktop\\citibikenyc\\src\\data_utils.py:111: SettingWithCopyWarning: \n",
      "A value is trying to be set on a copy of a slice from a DataFrame.\n",
      "Try using .loc[row_indexer,col_indexer] = value instead\n",
      "\n",
      "See the caveats in the documentation: https://pandas.pydata.org/pandas-docs/stable/user_guide/indexing.html#returning-a-view-versus-a-copy\n",
      "  df['start_station_id'] = df['start_station_id'].astype(str)\n"
     ]
    },
    {
     "name": "stdout",
     "output_type": "stream",
     "text": [
      "🗂️ Reading 202303-citibike-tripdata_3.csv\n",
      "✅ Finished processing for 2023-03\n",
      "\n",
      "📁 Checking for CSVs in: C:\\Users\\VAISHAK\\OneDrive\\Desktop\\citibikenyc\\data\\raw\\2023-citibike-tripdata\\2023-citibike-tripdata\\202304-citibike-tripdata\n",
      "🗂️ Reading 202304-citibike-tripdata_1.csv\n"
     ]
    },
    {
     "name": "stderr",
     "output_type": "stream",
     "text": [
      "c:\\Users\\VAISHAK\\OneDrive\\Desktop\\citibikenyc\\src\\data_utils.py:203: DtypeWarning: Columns (5,7) have mixed types. Specify dtype option on import or set low_memory=False.\n",
      "  df = pd.read_csv(csv_file)\n",
      "c:\\Users\\VAISHAK\\OneDrive\\Desktop\\citibikenyc\\src\\data_utils.py:111: SettingWithCopyWarning: \n",
      "A value is trying to be set on a copy of a slice from a DataFrame.\n",
      "Try using .loc[row_indexer,col_indexer] = value instead\n",
      "\n",
      "See the caveats in the documentation: https://pandas.pydata.org/pandas-docs/stable/user_guide/indexing.html#returning-a-view-versus-a-copy\n",
      "  df['start_station_id'] = df['start_station_id'].astype(str)\n"
     ]
    },
    {
     "name": "stdout",
     "output_type": "stream",
     "text": [
      "🗂️ Reading 202304-citibike-tripdata_2.csv\n"
     ]
    },
    {
     "name": "stderr",
     "output_type": "stream",
     "text": [
      "c:\\Users\\VAISHAK\\OneDrive\\Desktop\\citibikenyc\\src\\data_utils.py:203: DtypeWarning: Columns (5,7) have mixed types. Specify dtype option on import or set low_memory=False.\n",
      "  df = pd.read_csv(csv_file)\n"
     ]
    },
    {
     "name": "stdout",
     "output_type": "stream",
     "text": [
      "🗂️ Reading 202304-citibike-tripdata_3.csv\n"
     ]
    },
    {
     "name": "stderr",
     "output_type": "stream",
     "text": [
      "c:\\Users\\VAISHAK\\OneDrive\\Desktop\\citibikenyc\\src\\data_utils.py:203: DtypeWarning: Columns (5,7) have mixed types. Specify dtype option on import or set low_memory=False.\n",
      "  df = pd.read_csv(csv_file)\n"
     ]
    },
    {
     "name": "stdout",
     "output_type": "stream",
     "text": [
      "✅ Finished processing for 2023-04\n",
      "\n",
      "📁 Checking for CSVs in: C:\\Users\\VAISHAK\\OneDrive\\Desktop\\citibikenyc\\data\\raw\\2023-citibike-tripdata\\2023-citibike-tripdata\\202305-citibike-tripdata\n",
      "🗂️ Reading 202305-citibike-tripdata_1.csv\n"
     ]
    },
    {
     "name": "stderr",
     "output_type": "stream",
     "text": [
      "c:\\Users\\VAISHAK\\OneDrive\\Desktop\\citibikenyc\\src\\data_utils.py:203: DtypeWarning: Columns (5,7) have mixed types. Specify dtype option on import or set low_memory=False.\n",
      "  df = pd.read_csv(csv_file)\n",
      "c:\\Users\\VAISHAK\\OneDrive\\Desktop\\citibikenyc\\src\\data_utils.py:111: SettingWithCopyWarning: \n",
      "A value is trying to be set on a copy of a slice from a DataFrame.\n",
      "Try using .loc[row_indexer,col_indexer] = value instead\n",
      "\n",
      "See the caveats in the documentation: https://pandas.pydata.org/pandas-docs/stable/user_guide/indexing.html#returning-a-view-versus-a-copy\n",
      "  df['start_station_id'] = df['start_station_id'].astype(str)\n"
     ]
    },
    {
     "name": "stdout",
     "output_type": "stream",
     "text": [
      "🗂️ Reading 202305-citibike-tripdata_2.csv\n"
     ]
    },
    {
     "name": "stderr",
     "output_type": "stream",
     "text": [
      "c:\\Users\\VAISHAK\\OneDrive\\Desktop\\citibikenyc\\src\\data_utils.py:203: DtypeWarning: Columns (7) have mixed types. Specify dtype option on import or set low_memory=False.\n",
      "  df = pd.read_csv(csv_file)\n"
     ]
    },
    {
     "name": "stdout",
     "output_type": "stream",
     "text": [
      "🗂️ Reading 202305-citibike-tripdata_3.csv\n"
     ]
    },
    {
     "name": "stderr",
     "output_type": "stream",
     "text": [
      "c:\\Users\\VAISHAK\\OneDrive\\Desktop\\citibikenyc\\src\\data_utils.py:203: DtypeWarning: Columns (5,7) have mixed types. Specify dtype option on import or set low_memory=False.\n",
      "  df = pd.read_csv(csv_file)\n"
     ]
    },
    {
     "name": "stdout",
     "output_type": "stream",
     "text": [
      "🗂️ Reading 202305-citibike-tripdata_4.csv\n"
     ]
    },
    {
     "name": "stderr",
     "output_type": "stream",
     "text": [
      "c:\\Users\\VAISHAK\\OneDrive\\Desktop\\citibikenyc\\src\\data_utils.py:203: DtypeWarning: Columns (7) have mixed types. Specify dtype option on import or set low_memory=False.\n",
      "  df = pd.read_csv(csv_file)\n"
     ]
    },
    {
     "name": "stdout",
     "output_type": "stream",
     "text": [
      "✅ Finished processing for 2023-05\n",
      "\n",
      "📁 Checking for CSVs in: C:\\Users\\VAISHAK\\OneDrive\\Desktop\\citibikenyc\\data\\raw\\2023-citibike-tripdata\\2023-citibike-tripdata\\202306-citibike-tripdata\n",
      "🗂️ Reading 202306-citibike-tripdata_1.csv\n"
     ]
    },
    {
     "name": "stderr",
     "output_type": "stream",
     "text": [
      "c:\\Users\\VAISHAK\\OneDrive\\Desktop\\citibikenyc\\src\\data_utils.py:203: DtypeWarning: Columns (5,7) have mixed types. Specify dtype option on import or set low_memory=False.\n",
      "  df = pd.read_csv(csv_file)\n",
      "c:\\Users\\VAISHAK\\OneDrive\\Desktop\\citibikenyc\\src\\data_utils.py:111: SettingWithCopyWarning: \n",
      "A value is trying to be set on a copy of a slice from a DataFrame.\n",
      "Try using .loc[row_indexer,col_indexer] = value instead\n",
      "\n",
      "See the caveats in the documentation: https://pandas.pydata.org/pandas-docs/stable/user_guide/indexing.html#returning-a-view-versus-a-copy\n",
      "  df['start_station_id'] = df['start_station_id'].astype(str)\n"
     ]
    },
    {
     "name": "stdout",
     "output_type": "stream",
     "text": [
      "🗂️ Reading 202306-citibike-tripdata_2.csv\n"
     ]
    },
    {
     "name": "stderr",
     "output_type": "stream",
     "text": [
      "c:\\Users\\VAISHAK\\OneDrive\\Desktop\\citibikenyc\\src\\data_utils.py:203: DtypeWarning: Columns (5,7) have mixed types. Specify dtype option on import or set low_memory=False.\n",
      "  df = pd.read_csv(csv_file)\n",
      "c:\\Users\\VAISHAK\\OneDrive\\Desktop\\citibikenyc\\src\\data_utils.py:111: SettingWithCopyWarning: \n",
      "A value is trying to be set on a copy of a slice from a DataFrame.\n",
      "Try using .loc[row_indexer,col_indexer] = value instead\n",
      "\n",
      "See the caveats in the documentation: https://pandas.pydata.org/pandas-docs/stable/user_guide/indexing.html#returning-a-view-versus-a-copy\n",
      "  df['start_station_id'] = df['start_station_id'].astype(str)\n"
     ]
    },
    {
     "name": "stdout",
     "output_type": "stream",
     "text": [
      "🗂️ Reading 202306-citibike-tripdata_3.csv\n"
     ]
    },
    {
     "name": "stderr",
     "output_type": "stream",
     "text": [
      "c:\\Users\\VAISHAK\\OneDrive\\Desktop\\citibikenyc\\src\\data_utils.py:203: DtypeWarning: Columns (5,7) have mixed types. Specify dtype option on import or set low_memory=False.\n",
      "  df = pd.read_csv(csv_file)\n",
      "c:\\Users\\VAISHAK\\OneDrive\\Desktop\\citibikenyc\\src\\data_utils.py:111: SettingWithCopyWarning: \n",
      "A value is trying to be set on a copy of a slice from a DataFrame.\n",
      "Try using .loc[row_indexer,col_indexer] = value instead\n",
      "\n",
      "See the caveats in the documentation: https://pandas.pydata.org/pandas-docs/stable/user_guide/indexing.html#returning-a-view-versus-a-copy\n",
      "  df['start_station_id'] = df['start_station_id'].astype(str)\n"
     ]
    },
    {
     "name": "stdout",
     "output_type": "stream",
     "text": [
      "🗂️ Reading 202306-citibike-tripdata_4.csv\n"
     ]
    },
    {
     "name": "stderr",
     "output_type": "stream",
     "text": [
      "c:\\Users\\VAISHAK\\OneDrive\\Desktop\\citibikenyc\\src\\data_utils.py:203: DtypeWarning: Columns (5,7) have mixed types. Specify dtype option on import or set low_memory=False.\n",
      "  df = pd.read_csv(csv_file)\n",
      "c:\\Users\\VAISHAK\\OneDrive\\Desktop\\citibikenyc\\src\\data_utils.py:111: SettingWithCopyWarning: \n",
      "A value is trying to be set on a copy of a slice from a DataFrame.\n",
      "Try using .loc[row_indexer,col_indexer] = value instead\n",
      "\n",
      "See the caveats in the documentation: https://pandas.pydata.org/pandas-docs/stable/user_guide/indexing.html#returning-a-view-versus-a-copy\n",
      "  df['start_station_id'] = df['start_station_id'].astype(str)\n"
     ]
    },
    {
     "name": "stdout",
     "output_type": "stream",
     "text": [
      "✅ Finished processing for 2023-06\n",
      "\n",
      "📁 Checking for CSVs in: C:\\Users\\VAISHAK\\OneDrive\\Desktop\\citibikenyc\\data\\raw\\2023-citibike-tripdata\\2023-citibike-tripdata\\202307-citibike-tripdata\n",
      "🗂️ Reading 202307-citibike-tripdata_1.csv\n"
     ]
    },
    {
     "name": "stderr",
     "output_type": "stream",
     "text": [
      "c:\\Users\\VAISHAK\\OneDrive\\Desktop\\citibikenyc\\src\\data_utils.py:203: DtypeWarning: Columns (5,7) have mixed types. Specify dtype option on import or set low_memory=False.\n",
      "  df = pd.read_csv(csv_file)\n",
      "c:\\Users\\VAISHAK\\OneDrive\\Desktop\\citibikenyc\\src\\data_utils.py:111: SettingWithCopyWarning: \n",
      "A value is trying to be set on a copy of a slice from a DataFrame.\n",
      "Try using .loc[row_indexer,col_indexer] = value instead\n",
      "\n",
      "See the caveats in the documentation: https://pandas.pydata.org/pandas-docs/stable/user_guide/indexing.html#returning-a-view-versus-a-copy\n",
      "  df['start_station_id'] = df['start_station_id'].astype(str)\n"
     ]
    },
    {
     "name": "stdout",
     "output_type": "stream",
     "text": [
      "🗂️ Reading 202307-citibike-tripdata_2.csv\n"
     ]
    },
    {
     "name": "stderr",
     "output_type": "stream",
     "text": [
      "c:\\Users\\VAISHAK\\OneDrive\\Desktop\\citibikenyc\\src\\data_utils.py:203: DtypeWarning: Columns (5,7) have mixed types. Specify dtype option on import or set low_memory=False.\n",
      "  df = pd.read_csv(csv_file)\n",
      "c:\\Users\\VAISHAK\\OneDrive\\Desktop\\citibikenyc\\src\\data_utils.py:111: SettingWithCopyWarning: \n",
      "A value is trying to be set on a copy of a slice from a DataFrame.\n",
      "Try using .loc[row_indexer,col_indexer] = value instead\n",
      "\n",
      "See the caveats in the documentation: https://pandas.pydata.org/pandas-docs/stable/user_guide/indexing.html#returning-a-view-versus-a-copy\n",
      "  df['start_station_id'] = df['start_station_id'].astype(str)\n"
     ]
    },
    {
     "name": "stdout",
     "output_type": "stream",
     "text": [
      "🗂️ Reading 202307-citibike-tripdata_3.csv\n"
     ]
    },
    {
     "name": "stderr",
     "output_type": "stream",
     "text": [
      "c:\\Users\\VAISHAK\\OneDrive\\Desktop\\citibikenyc\\src\\data_utils.py:203: DtypeWarning: Columns (5,7) have mixed types. Specify dtype option on import or set low_memory=False.\n",
      "  df = pd.read_csv(csv_file)\n",
      "c:\\Users\\VAISHAK\\OneDrive\\Desktop\\citibikenyc\\src\\data_utils.py:111: SettingWithCopyWarning: \n",
      "A value is trying to be set on a copy of a slice from a DataFrame.\n",
      "Try using .loc[row_indexer,col_indexer] = value instead\n",
      "\n",
      "See the caveats in the documentation: https://pandas.pydata.org/pandas-docs/stable/user_guide/indexing.html#returning-a-view-versus-a-copy\n",
      "  df['start_station_id'] = df['start_station_id'].astype(str)\n"
     ]
    },
    {
     "name": "stdout",
     "output_type": "stream",
     "text": [
      "🗂️ Reading 202307-citibike-tripdata_4.csv\n"
     ]
    },
    {
     "name": "stderr",
     "output_type": "stream",
     "text": [
      "c:\\Users\\VAISHAK\\OneDrive\\Desktop\\citibikenyc\\src\\data_utils.py:203: DtypeWarning: Columns (5,7) have mixed types. Specify dtype option on import or set low_memory=False.\n",
      "  df = pd.read_csv(csv_file)\n",
      "c:\\Users\\VAISHAK\\OneDrive\\Desktop\\citibikenyc\\src\\data_utils.py:111: SettingWithCopyWarning: \n",
      "A value is trying to be set on a copy of a slice from a DataFrame.\n",
      "Try using .loc[row_indexer,col_indexer] = value instead\n",
      "\n",
      "See the caveats in the documentation: https://pandas.pydata.org/pandas-docs/stable/user_guide/indexing.html#returning-a-view-versus-a-copy\n",
      "  df['start_station_id'] = df['start_station_id'].astype(str)\n"
     ]
    },
    {
     "name": "stdout",
     "output_type": "stream",
     "text": [
      "✅ Finished processing for 2023-07\n",
      "\n",
      "📁 Checking for CSVs in: C:\\Users\\VAISHAK\\OneDrive\\Desktop\\citibikenyc\\data\\raw\\2023-citibike-tripdata\\2023-citibike-tripdata\\202308-citibike-tripdata\n",
      "🗂️ Reading 202308-citibike-tripdata_1.csv\n"
     ]
    },
    {
     "name": "stderr",
     "output_type": "stream",
     "text": [
      "c:\\Users\\VAISHAK\\OneDrive\\Desktop\\citibikenyc\\src\\data_utils.py:203: DtypeWarning: Columns (5,7) have mixed types. Specify dtype option on import or set low_memory=False.\n",
      "  df = pd.read_csv(csv_file)\n",
      "c:\\Users\\VAISHAK\\OneDrive\\Desktop\\citibikenyc\\src\\data_utils.py:111: SettingWithCopyWarning: \n",
      "A value is trying to be set on a copy of a slice from a DataFrame.\n",
      "Try using .loc[row_indexer,col_indexer] = value instead\n",
      "\n",
      "See the caveats in the documentation: https://pandas.pydata.org/pandas-docs/stable/user_guide/indexing.html#returning-a-view-versus-a-copy\n",
      "  df['start_station_id'] = df['start_station_id'].astype(str)\n"
     ]
    },
    {
     "name": "stdout",
     "output_type": "stream",
     "text": [
      "🗂️ Reading 202308-citibike-tripdata_2.csv\n"
     ]
    },
    {
     "name": "stderr",
     "output_type": "stream",
     "text": [
      "c:\\Users\\VAISHAK\\OneDrive\\Desktop\\citibikenyc\\src\\data_utils.py:203: DtypeWarning: Columns (5,7) have mixed types. Specify dtype option on import or set low_memory=False.\n",
      "  df = pd.read_csv(csv_file)\n",
      "c:\\Users\\VAISHAK\\OneDrive\\Desktop\\citibikenyc\\src\\data_utils.py:111: SettingWithCopyWarning: \n",
      "A value is trying to be set on a copy of a slice from a DataFrame.\n",
      "Try using .loc[row_indexer,col_indexer] = value instead\n",
      "\n",
      "See the caveats in the documentation: https://pandas.pydata.org/pandas-docs/stable/user_guide/indexing.html#returning-a-view-versus-a-copy\n",
      "  df['start_station_id'] = df['start_station_id'].astype(str)\n"
     ]
    },
    {
     "name": "stdout",
     "output_type": "stream",
     "text": [
      "🗂️ Reading 202308-citibike-tripdata_3.csv\n"
     ]
    },
    {
     "name": "stderr",
     "output_type": "stream",
     "text": [
      "c:\\Users\\VAISHAK\\OneDrive\\Desktop\\citibikenyc\\src\\data_utils.py:203: DtypeWarning: Columns (5,7) have mixed types. Specify dtype option on import or set low_memory=False.\n",
      "  df = pd.read_csv(csv_file)\n",
      "c:\\Users\\VAISHAK\\OneDrive\\Desktop\\citibikenyc\\src\\data_utils.py:111: SettingWithCopyWarning: \n",
      "A value is trying to be set on a copy of a slice from a DataFrame.\n",
      "Try using .loc[row_indexer,col_indexer] = value instead\n",
      "\n",
      "See the caveats in the documentation: https://pandas.pydata.org/pandas-docs/stable/user_guide/indexing.html#returning-a-view-versus-a-copy\n",
      "  df['start_station_id'] = df['start_station_id'].astype(str)\n"
     ]
    },
    {
     "name": "stdout",
     "output_type": "stream",
     "text": [
      "🗂️ Reading 202308-citibike-tripdata_4.csv\n"
     ]
    },
    {
     "name": "stderr",
     "output_type": "stream",
     "text": [
      "c:\\Users\\VAISHAK\\OneDrive\\Desktop\\citibikenyc\\src\\data_utils.py:203: DtypeWarning: Columns (5,7) have mixed types. Specify dtype option on import or set low_memory=False.\n",
      "  df = pd.read_csv(csv_file)\n",
      "c:\\Users\\VAISHAK\\OneDrive\\Desktop\\citibikenyc\\src\\data_utils.py:111: SettingWithCopyWarning: \n",
      "A value is trying to be set on a copy of a slice from a DataFrame.\n",
      "Try using .loc[row_indexer,col_indexer] = value instead\n",
      "\n",
      "See the caveats in the documentation: https://pandas.pydata.org/pandas-docs/stable/user_guide/indexing.html#returning-a-view-versus-a-copy\n",
      "  df['start_station_id'] = df['start_station_id'].astype(str)\n"
     ]
    },
    {
     "name": "stdout",
     "output_type": "stream",
     "text": [
      "✅ Finished processing for 2023-08\n",
      "\n",
      "📁 Checking for CSVs in: C:\\Users\\VAISHAK\\OneDrive\\Desktop\\citibikenyc\\data\\raw\\2023-citibike-tripdata\\2023-citibike-tripdata\\202309-citibike-tripdata\n",
      "🗂️ Reading 202309-citibike-tripdata_1.csv\n"
     ]
    },
    {
     "name": "stderr",
     "output_type": "stream",
     "text": [
      "c:\\Users\\VAISHAK\\OneDrive\\Desktop\\citibikenyc\\src\\data_utils.py:203: DtypeWarning: Columns (5,7) have mixed types. Specify dtype option on import or set low_memory=False.\n",
      "  df = pd.read_csv(csv_file)\n",
      "c:\\Users\\VAISHAK\\OneDrive\\Desktop\\citibikenyc\\src\\data_utils.py:111: SettingWithCopyWarning: \n",
      "A value is trying to be set on a copy of a slice from a DataFrame.\n",
      "Try using .loc[row_indexer,col_indexer] = value instead\n",
      "\n",
      "See the caveats in the documentation: https://pandas.pydata.org/pandas-docs/stable/user_guide/indexing.html#returning-a-view-versus-a-copy\n",
      "  df['start_station_id'] = df['start_station_id'].astype(str)\n"
     ]
    },
    {
     "name": "stdout",
     "output_type": "stream",
     "text": [
      "🗂️ Reading 202309-citibike-tripdata_2.csv\n"
     ]
    },
    {
     "name": "stderr",
     "output_type": "stream",
     "text": [
      "c:\\Users\\VAISHAK\\OneDrive\\Desktop\\citibikenyc\\src\\data_utils.py:203: DtypeWarning: Columns (5,7) have mixed types. Specify dtype option on import or set low_memory=False.\n",
      "  df = pd.read_csv(csv_file)\n",
      "c:\\Users\\VAISHAK\\OneDrive\\Desktop\\citibikenyc\\src\\data_utils.py:111: SettingWithCopyWarning: \n",
      "A value is trying to be set on a copy of a slice from a DataFrame.\n",
      "Try using .loc[row_indexer,col_indexer] = value instead\n",
      "\n",
      "See the caveats in the documentation: https://pandas.pydata.org/pandas-docs/stable/user_guide/indexing.html#returning-a-view-versus-a-copy\n",
      "  df['start_station_id'] = df['start_station_id'].astype(str)\n"
     ]
    },
    {
     "name": "stdout",
     "output_type": "stream",
     "text": [
      "🗂️ Reading 202309-citibike-tripdata_3.csv\n"
     ]
    },
    {
     "name": "stderr",
     "output_type": "stream",
     "text": [
      "c:\\Users\\VAISHAK\\OneDrive\\Desktop\\citibikenyc\\src\\data_utils.py:203: DtypeWarning: Columns (5,7) have mixed types. Specify dtype option on import or set low_memory=False.\n",
      "  df = pd.read_csv(csv_file)\n",
      "c:\\Users\\VAISHAK\\OneDrive\\Desktop\\citibikenyc\\src\\data_utils.py:111: SettingWithCopyWarning: \n",
      "A value is trying to be set on a copy of a slice from a DataFrame.\n",
      "Try using .loc[row_indexer,col_indexer] = value instead\n",
      "\n",
      "See the caveats in the documentation: https://pandas.pydata.org/pandas-docs/stable/user_guide/indexing.html#returning-a-view-versus-a-copy\n",
      "  df['start_station_id'] = df['start_station_id'].astype(str)\n"
     ]
    },
    {
     "name": "stdout",
     "output_type": "stream",
     "text": [
      "🗂️ Reading 202309-citibike-tripdata_4.csv\n"
     ]
    },
    {
     "name": "stderr",
     "output_type": "stream",
     "text": [
      "c:\\Users\\VAISHAK\\OneDrive\\Desktop\\citibikenyc\\src\\data_utils.py:203: DtypeWarning: Columns (5) have mixed types. Specify dtype option on import or set low_memory=False.\n",
      "  df = pd.read_csv(csv_file)\n",
      "c:\\Users\\VAISHAK\\OneDrive\\Desktop\\citibikenyc\\src\\data_utils.py:111: SettingWithCopyWarning: \n",
      "A value is trying to be set on a copy of a slice from a DataFrame.\n",
      "Try using .loc[row_indexer,col_indexer] = value instead\n",
      "\n",
      "See the caveats in the documentation: https://pandas.pydata.org/pandas-docs/stable/user_guide/indexing.html#returning-a-view-versus-a-copy\n",
      "  df['start_station_id'] = df['start_station_id'].astype(str)\n"
     ]
    },
    {
     "name": "stdout",
     "output_type": "stream",
     "text": [
      "✅ Finished processing for 2023-09\n",
      "\n",
      "📁 Checking for CSVs in: C:\\Users\\VAISHAK\\OneDrive\\Desktop\\citibikenyc\\data\\raw\\2023-citibike-tripdata\\2023-citibike-tripdata\\202310-citibike-tripdata\n",
      "🗂️ Reading 202310-citibike-tripdata_1.csv\n"
     ]
    },
    {
     "name": "stderr",
     "output_type": "stream",
     "text": [
      "c:\\Users\\VAISHAK\\OneDrive\\Desktop\\citibikenyc\\src\\data_utils.py:203: DtypeWarning: Columns (7) have mixed types. Specify dtype option on import or set low_memory=False.\n",
      "  df = pd.read_csv(csv_file)\n",
      "c:\\Users\\VAISHAK\\OneDrive\\Desktop\\citibikenyc\\src\\data_utils.py:111: SettingWithCopyWarning: \n",
      "A value is trying to be set on a copy of a slice from a DataFrame.\n",
      "Try using .loc[row_indexer,col_indexer] = value instead\n",
      "\n",
      "See the caveats in the documentation: https://pandas.pydata.org/pandas-docs/stable/user_guide/indexing.html#returning-a-view-versus-a-copy\n",
      "  df['start_station_id'] = df['start_station_id'].astype(str)\n"
     ]
    },
    {
     "name": "stdout",
     "output_type": "stream",
     "text": [
      "🗂️ Reading 202310-citibike-tripdata_2.csv\n"
     ]
    },
    {
     "name": "stderr",
     "output_type": "stream",
     "text": [
      "c:\\Users\\VAISHAK\\OneDrive\\Desktop\\citibikenyc\\src\\data_utils.py:203: DtypeWarning: Columns (7) have mixed types. Specify dtype option on import or set low_memory=False.\n",
      "  df = pd.read_csv(csv_file)\n",
      "c:\\Users\\VAISHAK\\OneDrive\\Desktop\\citibikenyc\\src\\data_utils.py:111: SettingWithCopyWarning: \n",
      "A value is trying to be set on a copy of a slice from a DataFrame.\n",
      "Try using .loc[row_indexer,col_indexer] = value instead\n",
      "\n",
      "See the caveats in the documentation: https://pandas.pydata.org/pandas-docs/stable/user_guide/indexing.html#returning-a-view-versus-a-copy\n",
      "  df['start_station_id'] = df['start_station_id'].astype(str)\n"
     ]
    },
    {
     "name": "stdout",
     "output_type": "stream",
     "text": [
      "🗂️ Reading 202310-citibike-tripdata_3.csv\n"
     ]
    },
    {
     "name": "stderr",
     "output_type": "stream",
     "text": [
      "c:\\Users\\VAISHAK\\OneDrive\\Desktop\\citibikenyc\\src\\data_utils.py:203: DtypeWarning: Columns (5,7) have mixed types. Specify dtype option on import or set low_memory=False.\n",
      "  df = pd.read_csv(csv_file)\n",
      "c:\\Users\\VAISHAK\\OneDrive\\Desktop\\citibikenyc\\src\\data_utils.py:111: SettingWithCopyWarning: \n",
      "A value is trying to be set on a copy of a slice from a DataFrame.\n",
      "Try using .loc[row_indexer,col_indexer] = value instead\n",
      "\n",
      "See the caveats in the documentation: https://pandas.pydata.org/pandas-docs/stable/user_guide/indexing.html#returning-a-view-versus-a-copy\n",
      "  df['start_station_id'] = df['start_station_id'].astype(str)\n"
     ]
    },
    {
     "name": "stdout",
     "output_type": "stream",
     "text": [
      "🗂️ Reading 202310-citibike-tripdata_4.csv\n"
     ]
    },
    {
     "name": "stderr",
     "output_type": "stream",
     "text": [
      "c:\\Users\\VAISHAK\\OneDrive\\Desktop\\citibikenyc\\src\\data_utils.py:203: DtypeWarning: Columns (7) have mixed types. Specify dtype option on import or set low_memory=False.\n",
      "  df = pd.read_csv(csv_file)\n",
      "c:\\Users\\VAISHAK\\OneDrive\\Desktop\\citibikenyc\\src\\data_utils.py:111: SettingWithCopyWarning: \n",
      "A value is trying to be set on a copy of a slice from a DataFrame.\n",
      "Try using .loc[row_indexer,col_indexer] = value instead\n",
      "\n",
      "See the caveats in the documentation: https://pandas.pydata.org/pandas-docs/stable/user_guide/indexing.html#returning-a-view-versus-a-copy\n",
      "  df['start_station_id'] = df['start_station_id'].astype(str)\n"
     ]
    },
    {
     "name": "stdout",
     "output_type": "stream",
     "text": [
      "✅ Finished processing for 2023-10\n",
      "\n",
      "📁 Checking for CSVs in: C:\\Users\\VAISHAK\\OneDrive\\Desktop\\citibikenyc\\data\\raw\\2023-citibike-tripdata\\2023-citibike-tripdata\\202311-citibike-tripdata\n",
      "🗂️ Reading 202311-citibike-tripdata_1.csv\n"
     ]
    },
    {
     "name": "stderr",
     "output_type": "stream",
     "text": [
      "c:\\Users\\VAISHAK\\OneDrive\\Desktop\\citibikenyc\\src\\data_utils.py:203: DtypeWarning: Columns (7) have mixed types. Specify dtype option on import or set low_memory=False.\n",
      "  df = pd.read_csv(csv_file)\n",
      "c:\\Users\\VAISHAK\\OneDrive\\Desktop\\citibikenyc\\src\\data_utils.py:111: SettingWithCopyWarning: \n",
      "A value is trying to be set on a copy of a slice from a DataFrame.\n",
      "Try using .loc[row_indexer,col_indexer] = value instead\n",
      "\n",
      "See the caveats in the documentation: https://pandas.pydata.org/pandas-docs/stable/user_guide/indexing.html#returning-a-view-versus-a-copy\n",
      "  df['start_station_id'] = df['start_station_id'].astype(str)\n"
     ]
    },
    {
     "name": "stdout",
     "output_type": "stream",
     "text": [
      "🗂️ Reading 202311-citibike-tripdata_2.csv\n"
     ]
    },
    {
     "name": "stderr",
     "output_type": "stream",
     "text": [
      "c:\\Users\\VAISHAK\\OneDrive\\Desktop\\citibikenyc\\src\\data_utils.py:203: DtypeWarning: Columns (5,7) have mixed types. Specify dtype option on import or set low_memory=False.\n",
      "  df = pd.read_csv(csv_file)\n",
      "c:\\Users\\VAISHAK\\OneDrive\\Desktop\\citibikenyc\\src\\data_utils.py:111: SettingWithCopyWarning: \n",
      "A value is trying to be set on a copy of a slice from a DataFrame.\n",
      "Try using .loc[row_indexer,col_indexer] = value instead\n",
      "\n",
      "See the caveats in the documentation: https://pandas.pydata.org/pandas-docs/stable/user_guide/indexing.html#returning-a-view-versus-a-copy\n",
      "  df['start_station_id'] = df['start_station_id'].astype(str)\n"
     ]
    },
    {
     "name": "stdout",
     "output_type": "stream",
     "text": [
      "🗂️ Reading 202311-citibike-tripdata_3.csv\n"
     ]
    },
    {
     "name": "stderr",
     "output_type": "stream",
     "text": [
      "c:\\Users\\VAISHAK\\OneDrive\\Desktop\\citibikenyc\\src\\data_utils.py:203: DtypeWarning: Columns (7) have mixed types. Specify dtype option on import or set low_memory=False.\n",
      "  df = pd.read_csv(csv_file)\n",
      "c:\\Users\\VAISHAK\\OneDrive\\Desktop\\citibikenyc\\src\\data_utils.py:111: SettingWithCopyWarning: \n",
      "A value is trying to be set on a copy of a slice from a DataFrame.\n",
      "Try using .loc[row_indexer,col_indexer] = value instead\n",
      "\n",
      "See the caveats in the documentation: https://pandas.pydata.org/pandas-docs/stable/user_guide/indexing.html#returning-a-view-versus-a-copy\n",
      "  df['start_station_id'] = df['start_station_id'].astype(str)\n"
     ]
    },
    {
     "name": "stdout",
     "output_type": "stream",
     "text": [
      "✅ Finished processing for 2023-11\n",
      "\n",
      "📁 Checking for CSVs in: C:\\Users\\VAISHAK\\OneDrive\\Desktop\\citibikenyc\\data\\raw\\2023-citibike-tripdata\\2023-citibike-tripdata\\202312-citibike-tripdata\n",
      "🗂️ Reading 202312-citibike-tripdata_1.csv\n"
     ]
    },
    {
     "name": "stderr",
     "output_type": "stream",
     "text": [
      "c:\\Users\\VAISHAK\\OneDrive\\Desktop\\citibikenyc\\src\\data_utils.py:203: DtypeWarning: Columns (7) have mixed types. Specify dtype option on import or set low_memory=False.\n",
      "  df = pd.read_csv(csv_file)\n",
      "c:\\Users\\VAISHAK\\OneDrive\\Desktop\\citibikenyc\\src\\data_utils.py:111: SettingWithCopyWarning: \n",
      "A value is trying to be set on a copy of a slice from a DataFrame.\n",
      "Try using .loc[row_indexer,col_indexer] = value instead\n",
      "\n",
      "See the caveats in the documentation: https://pandas.pydata.org/pandas-docs/stable/user_guide/indexing.html#returning-a-view-versus-a-copy\n",
      "  df['start_station_id'] = df['start_station_id'].astype(str)\n"
     ]
    },
    {
     "name": "stdout",
     "output_type": "stream",
     "text": [
      "🗂️ Reading 202312-citibike-tripdata_2.csv\n"
     ]
    },
    {
     "name": "stderr",
     "output_type": "stream",
     "text": [
      "c:\\Users\\VAISHAK\\OneDrive\\Desktop\\citibikenyc\\src\\data_utils.py:203: DtypeWarning: Columns (7) have mixed types. Specify dtype option on import or set low_memory=False.\n",
      "  df = pd.read_csv(csv_file)\n",
      "c:\\Users\\VAISHAK\\OneDrive\\Desktop\\citibikenyc\\src\\data_utils.py:111: SettingWithCopyWarning: \n",
      "A value is trying to be set on a copy of a slice from a DataFrame.\n",
      "Try using .loc[row_indexer,col_indexer] = value instead\n",
      "\n",
      "See the caveats in the documentation: https://pandas.pydata.org/pandas-docs/stable/user_guide/indexing.html#returning-a-view-versus-a-copy\n",
      "  df['start_station_id'] = df['start_station_id'].astype(str)\n"
     ]
    },
    {
     "name": "stdout",
     "output_type": "stream",
     "text": [
      "🗂️ Reading 202312-citibike-tripdata_3.csv\n"
     ]
    },
    {
     "name": "stderr",
     "output_type": "stream",
     "text": [
      "c:\\Users\\VAISHAK\\OneDrive\\Desktop\\citibikenyc\\src\\data_utils.py:203: DtypeWarning: Columns (7) have mixed types. Specify dtype option on import or set low_memory=False.\n",
      "  df = pd.read_csv(csv_file)\n",
      "c:\\Users\\VAISHAK\\OneDrive\\Desktop\\citibikenyc\\src\\data_utils.py:111: SettingWithCopyWarning: \n",
      "A value is trying to be set on a copy of a slice from a DataFrame.\n",
      "Try using .loc[row_indexer,col_indexer] = value instead\n",
      "\n",
      "See the caveats in the documentation: https://pandas.pydata.org/pandas-docs/stable/user_guide/indexing.html#returning-a-view-versus-a-copy\n",
      "  df['start_station_id'] = df['start_station_id'].astype(str)\n"
     ]
    },
    {
     "name": "stdout",
     "output_type": "stream",
     "text": [
      "✅ Finished processing for 2023-12\n",
      "\n",
      "✅ All data loaded. Total records: 316,816\n",
      "✅ Citi Bike ride data loaded: (316816, 15)\n",
      "✅ Transformed to time-series format: (26535, 3)\n",
      "<class 'pandas.core.frame.DataFrame'>\n",
      "RangeIndex: 26535 entries, 0 to 26534\n",
      "Data columns (total 3 columns):\n",
      " #   Column              Non-Null Count  Dtype         \n",
      "---  ------              --------------  -----         \n",
      " 0   pickup_hour         26535 non-null  datetime64[ns]\n",
      " 1   pickup_location_id  26535 non-null  object        \n",
      " 2   rides               26535 non-null  int32         \n",
      "dtypes: datetime64[ns](1), int32(1), object(1)\n",
      "memory usage: 518.4+ KB\n"
     ]
    }
   ],
   "source": [
    "from dotenv import load_dotenv\n",
    "import os\n",
    "load_dotenv()\n",
    "\n",
    "import sys\n",
    "import os\n",
    "sys.path.append(os.path.abspath(os.path.join(os.getcwd(), \"..\")))\n",
    "\n",
    "from datetime import datetime\n",
    "import pandas as pd\n",
    "from src.data_utils import load_and_process_citibike_data, transform_raw_data_into_ts_data\n",
    "\n",
    "# Load Citi Bike data (2023)\n",
    "from_year = 2023\n",
    "to_year = 2023\n",
    "print(f\"Loading Citi Bike data from {from_year} to {to_year}\")\n",
    "\n",
    "rides = pd.DataFrame()\n",
    "chunks = []\n",
    "for year in range(from_year, to_year+1):\n",
    "    rides_one_year = load_and_process_citibike_data(year)\n",
    "    chunks.append(rides_one_year)\n",
    "    break  # You can remove this break to load multiple years\n",
    "\n",
    "rides = pd.concat(chunks, ignore_index=True)\n",
    "print(\"✅ Citi Bike ride data loaded:\", rides.shape)\n",
    "\n",
    "# Rename columns to match expected format\n",
    "rides.rename(columns={\"start_station_id\": \"pickup_location_id\", \"started_at\": \"pickup_datetime\"}, inplace=True)\n",
    "\n",
    "# Transform to hourly time series\n",
    "ts_data = transform_raw_data_into_ts_data(rides)\n",
    "print(\"✅ Transformed to time-series format:\", ts_data.shape)\n",
    "ts_data.info()\n"
   ]
  },
  {
   "cell_type": "code",
   "execution_count": 3,
   "id": "3b9a2a64",
   "metadata": {},
   "outputs": [
    {
     "data": {
      "text/html": [
       "<div>\n",
       "<style scoped>\n",
       "    .dataframe tbody tr th:only-of-type {\n",
       "        vertical-align: middle;\n",
       "    }\n",
       "\n",
       "    .dataframe tbody tr th {\n",
       "        vertical-align: top;\n",
       "    }\n",
       "\n",
       "    .dataframe thead th {\n",
       "        text-align: right;\n",
       "    }\n",
       "</style>\n",
       "<table border=\"1\" class=\"dataframe\">\n",
       "  <thead>\n",
       "    <tr style=\"text-align: right;\">\n",
       "      <th></th>\n",
       "      <th>pickup_hour</th>\n",
       "      <th>pickup_location_id</th>\n",
       "      <th>rides</th>\n",
       "    </tr>\n",
       "  </thead>\n",
       "  <tbody>\n",
       "    <tr>\n",
       "      <th>0</th>\n",
       "      <td>2022-12-28 11:00:00</td>\n",
       "      <td>5329.03</td>\n",
       "      <td>1</td>\n",
       "    </tr>\n",
       "    <tr>\n",
       "      <th>1</th>\n",
       "      <td>2022-12-28 12:00:00</td>\n",
       "      <td>5329.03</td>\n",
       "      <td>0</td>\n",
       "    </tr>\n",
       "    <tr>\n",
       "      <th>2</th>\n",
       "      <td>2022-12-28 13:00:00</td>\n",
       "      <td>5329.03</td>\n",
       "      <td>0</td>\n",
       "    </tr>\n",
       "    <tr>\n",
       "      <th>3</th>\n",
       "      <td>2022-12-28 14:00:00</td>\n",
       "      <td>5329.03</td>\n",
       "      <td>0</td>\n",
       "    </tr>\n",
       "    <tr>\n",
       "      <th>4</th>\n",
       "      <td>2022-12-28 15:00:00</td>\n",
       "      <td>5329.03</td>\n",
       "      <td>0</td>\n",
       "    </tr>\n",
       "  </tbody>\n",
       "</table>\n",
       "</div>"
      ],
      "text/plain": [
       "          pickup_hour pickup_location_id  rides\n",
       "0 2022-12-28 11:00:00            5329.03      1\n",
       "1 2022-12-28 12:00:00            5329.03      0\n",
       "2 2022-12-28 13:00:00            5329.03      0\n",
       "3 2022-12-28 14:00:00            5329.03      0\n",
       "4 2022-12-28 15:00:00            5329.03      0"
      ]
     },
     "execution_count": 3,
     "metadata": {},
     "output_type": "execute_result"
    }
   ],
   "source": [
    "ts_data.head()\n"
   ]
  },
  {
   "cell_type": "code",
   "execution_count": 4,
   "id": "f7bceb28",
   "metadata": {},
   "outputs": [
    {
     "name": "stdout",
     "output_type": "stream",
     "text": [
      "2025-05-11 01:56:14,879 INFO: Initializing external client\n",
      "2025-05-11 01:56:14,879 INFO: Base URL: https://c.app.hopsworks.ai:443\n",
      "2025-05-11 01:56:16,268 INFO: Python Engine initialized.\n",
      "\n",
      "Logged in to project, explore it here https://c.app.hopsworks.ai:443/p/1228962\n"
     ]
    }
   ],
   "source": [
    "import hopsworks\n",
    "\n",
    "project = hopsworks.login()  # or hopsworks.login(api_key_value=\"your_api_key\")\n",
    "feature_store = project.get_feature_store()"
   ]
  },
  {
   "cell_type": "code",
   "execution_count": 6,
   "id": "fb5d59ae",
   "metadata": {},
   "outputs": [
    {
     "name": "stderr",
     "output_type": "stream",
     "text": [
      "Uploading Dataframe: 100.00% |██████████| Rows 26535/26535 | Elapsed Time: 00:01 | Remaining Time: 00:00\n"
     ]
    },
    {
     "name": "stdout",
     "output_type": "stream",
     "text": [
      "Launching job: citibike_hourly_features_1_offline_fg_materialization\n",
      "Job started successfully, you can follow the progress at \n",
      "https://c.app.hopsworks.ai:443/p/1228962/jobs/named/citibike_hourly_features_1_offline_fg_materialization/executions\n"
     ]
    },
    {
     "data": {
      "text/plain": [
       "(Job('citibike_hourly_features_1_offline_fg_materialization', 'SPARK'), None)"
      ]
     },
     "execution_count": 6,
     "metadata": {},
     "output_type": "execute_result"
    }
   ],
   "source": [
    "from hsfs.feature import Feature\n",
    "import numpy as np\n",
    "\n",
    "# Define the schema for the feature group\n",
    "features = [\n",
    "    Feature(name=\"pickup_hour\", type=\"timestamp\"),\n",
    "    Feature(name=\"pickup_location_id\", type=\"string\"),\n",
    "    Feature(name=\"rides\", type=\"bigint\"),\n",
    "]\n",
    "\n",
    "# Create or retrieve the feature group\n",
    "feature_group = feature_store.get_or_create_feature_group(\n",
    "    name=\"citibike_hourly_features\",\n",
    "    version=1,\n",
    "    description=\"Time-series Citi Bike rides aggregated by hour and location\",\n",
    "    primary_key=[\"pickup_location_id\", \"pickup_hour\"],\n",
    "    event_time=\"pickup_hour\",\n",
    "    features=features\n",
    ")\n",
    "\n",
    "# ✅ Ensure the 'rides' column has the correct dtype (int64 for 'bigint')\n",
    "ts_data[\"rides\"] = ts_data[\"rides\"].astype(np.int64)\n",
    "\n",
    "# Insert data into the feature group\n",
    "feature_group.insert(ts_data, write_options={\"wait_for_job\": False})\n"
   ]
  },
  {
   "cell_type": "code",
   "execution_count": 7,
   "id": "c8e6d156",
   "metadata": {},
   "outputs": [
    {
     "name": "stdout",
     "output_type": "stream",
     "text": [
      "Finished: Reading data from Hopsworks, using Hopsworks Feature Query Service (1.10s) \n"
     ]
    },
    {
     "data": {
      "text/html": [
       "<div>\n",
       "<style scoped>\n",
       "    .dataframe tbody tr th:only-of-type {\n",
       "        vertical-align: middle;\n",
       "    }\n",
       "\n",
       "    .dataframe tbody tr th {\n",
       "        vertical-align: top;\n",
       "    }\n",
       "\n",
       "    .dataframe thead th {\n",
       "        text-align: right;\n",
       "    }\n",
       "</style>\n",
       "<table border=\"1\" class=\"dataframe\">\n",
       "  <thead>\n",
       "    <tr style=\"text-align: right;\">\n",
       "      <th></th>\n",
       "      <th>pickup_hour</th>\n",
       "      <th>pickup_location_id</th>\n",
       "      <th>rides</th>\n",
       "    </tr>\n",
       "  </thead>\n",
       "  <tbody>\n",
       "    <tr>\n",
       "      <th>0</th>\n",
       "      <td>2023-05-24 16:00:00+00:00</td>\n",
       "      <td>6140.05</td>\n",
       "      <td>42</td>\n",
       "    </tr>\n",
       "    <tr>\n",
       "      <th>1</th>\n",
       "      <td>2023-07-01 20:00:00+00:00</td>\n",
       "      <td>6948.10</td>\n",
       "      <td>12</td>\n",
       "    </tr>\n",
       "    <tr>\n",
       "      <th>2</th>\n",
       "      <td>2023-10-22 14:00:00+00:00</td>\n",
       "      <td>6948.10</td>\n",
       "      <td>38</td>\n",
       "    </tr>\n",
       "    <tr>\n",
       "      <th>3</th>\n",
       "      <td>2023-08-07 18:00:00+00:00</td>\n",
       "      <td>6140.05</td>\n",
       "      <td>57</td>\n",
       "    </tr>\n",
       "    <tr>\n",
       "      <th>4</th>\n",
       "      <td>2023-01-11 23:00:00+00:00</td>\n",
       "      <td>6948.10</td>\n",
       "      <td>0</td>\n",
       "    </tr>\n",
       "  </tbody>\n",
       "</table>\n",
       "</div>"
      ],
      "text/plain": [
       "                pickup_hour pickup_location_id  rides\n",
       "0 2023-05-24 16:00:00+00:00            6140.05     42\n",
       "1 2023-07-01 20:00:00+00:00            6948.10     12\n",
       "2 2023-10-22 14:00:00+00:00            6948.10     38\n",
       "3 2023-08-07 18:00:00+00:00            6140.05     57\n",
       "4 2023-01-11 23:00:00+00:00            6948.10      0"
      ]
     },
     "execution_count": 7,
     "metadata": {},
     "output_type": "execute_result"
    }
   ],
   "source": [
    "# Load the feature group (if not already loaded)\n",
    "feature_group = feature_store.get_feature_group(\n",
    "    name=\"citibike_hourly_features\",\n",
    "    version=1\n",
    ")\n",
    "\n",
    "# Read data from offline storage\n",
    "ts_data_from_hopsworks = feature_group.read()\n",
    "\n",
    "# Preview the data\n",
    "ts_data_from_hopsworks.head()\n"
   ]
  },
  {
   "cell_type": "code",
   "execution_count": 8,
   "id": "ce8333be",
   "metadata": {},
   "outputs": [
    {
     "name": "stdout",
     "output_type": "stream",
     "text": [
      "2025-05-11 02:02:58,790 INFO: 📅 Loading Citi Bike data from Jan to Dec 2023 …\n",
      "2025-05-11 02:03:01,788 WARNING: DtypeWarning: Columns (5,7) have mixed types. Specify dtype option on import or set low_memory=False.\n",
      "\n",
      "2025-05-11 02:03:05,561 WARNING: DtypeWarning: Columns (5,7) have mixed types. Specify dtype option on import or set low_memory=False.\n",
      "\n",
      "2025-05-11 02:03:10,178 WARNING: DtypeWarning: Columns (5,7) have mixed types. Specify dtype option on import or set low_memory=False.\n",
      "\n",
      "2025-05-11 02:03:13,042 WARNING: DtypeWarning: Columns (5,7) have mixed types. Specify dtype option on import or set low_memory=False.\n",
      "\n",
      "2025-05-11 02:03:17,435 WARNING: DtypeWarning: Columns (5,7) have mixed types. Specify dtype option on import or set low_memory=False.\n",
      "\n",
      "2025-05-11 02:03:20,984 WARNING: DtypeWarning: Columns (5,7) have mixed types. Specify dtype option on import or set low_memory=False.\n",
      "\n",
      "2025-05-11 02:03:24,634 WARNING: DtypeWarning: Columns (5,7) have mixed types. Specify dtype option on import or set low_memory=False.\n",
      "\n",
      "2025-05-11 02:03:28,225 WARNING: DtypeWarning: Columns (5,7) have mixed types. Specify dtype option on import or set low_memory=False.\n",
      "\n",
      "2025-05-11 02:03:32,757 WARNING: DtypeWarning: Columns (7) have mixed types. Specify dtype option on import or set low_memory=False.\n",
      "\n",
      "2025-05-11 02:03:37,671 WARNING: DtypeWarning: Columns (7) have mixed types. Specify dtype option on import or set low_memory=False.\n",
      "\n",
      "2025-05-11 02:03:43,104 WARNING: DtypeWarning: Columns (7) have mixed types. Specify dtype option on import or set low_memory=False.\n",
      "\n",
      "2025-05-11 02:03:46,680 WARNING: DtypeWarning: Columns (7) have mixed types. Specify dtype option on import or set low_memory=False.\n",
      "\n",
      "2025-05-11 02:03:50,501 WARNING: DtypeWarning: Columns (5,7) have mixed types. Specify dtype option on import or set low_memory=False.\n",
      "\n",
      "2025-05-11 02:03:55,034 WARNING: DtypeWarning: Columns (5,7) have mixed types. Specify dtype option on import or set low_memory=False.\n",
      "\n",
      "2025-05-11 02:03:58,610 WARNING: DtypeWarning: Columns (5,7) have mixed types. Specify dtype option on import or set low_memory=False.\n",
      "\n",
      "2025-05-11 02:04:01,829 WARNING: DtypeWarning: Columns (5,7) have mixed types. Specify dtype option on import or set low_memory=False.\n",
      "\n",
      "2025-05-11 02:04:04,932 WARNING: DtypeWarning: Columns (5,7) have mixed types. Specify dtype option on import or set low_memory=False.\n",
      "\n",
      "2025-05-11 02:04:08,211 WARNING: DtypeWarning: Columns (5,7) have mixed types. Specify dtype option on import or set low_memory=False.\n",
      "\n",
      "2025-05-11 02:04:12,494 WARNING: DtypeWarning: Columns (5,7) have mixed types. Specify dtype option on import or set low_memory=False.\n",
      "\n",
      "2025-05-11 02:04:16,671 WARNING: DtypeWarning: Columns (7) have mixed types. Specify dtype option on import or set low_memory=False.\n",
      "\n",
      "2025-05-11 02:04:21,284 WARNING: DtypeWarning: Columns (5,7) have mixed types. Specify dtype option on import or set low_memory=False.\n",
      "\n",
      "2025-05-11 02:04:24,392 WARNING: DtypeWarning: Columns (7) have mixed types. Specify dtype option on import or set low_memory=False.\n",
      "\n",
      "2025-05-11 02:04:26,508 WARNING: DtypeWarning: Columns (7) have mixed types. Specify dtype option on import or set low_memory=False.\n",
      "\n",
      "2025-05-11 02:04:29,824 WARNING: DtypeWarning: Columns (5,7) have mixed types. Specify dtype option on import or set low_memory=False.\n",
      "\n",
      "2025-05-11 02:04:33,091 WARNING: DtypeWarning: Columns (7) have mixed types. Specify dtype option on import or set low_memory=False.\n",
      "\n",
      "2025-05-11 02:04:36,607 WARNING: DtypeWarning: Columns (5,7) have mixed types. Specify dtype option on import or set low_memory=False.\n",
      "\n",
      "2025-05-11 02:04:41,570 WARNING: DtypeWarning: Columns (5,7) have mixed types. Specify dtype option on import or set low_memory=False.\n",
      "\n",
      "2025-05-11 02:04:45,942 WARNING: DtypeWarning: Columns (5,7) have mixed types. Specify dtype option on import or set low_memory=False.\n",
      "\n",
      "2025-05-11 02:04:50,609 WARNING: DtypeWarning: Columns (5,7) have mixed types. Specify dtype option on import or set low_memory=False.\n",
      "\n",
      "2025-05-11 02:04:53,467 WARNING: DtypeWarning: Columns (5,7) have mixed types. Specify dtype option on import or set low_memory=False.\n",
      "\n",
      "2025-05-11 02:04:57,498 WARNING: DtypeWarning: Columns (5,7) have mixed types. Specify dtype option on import or set low_memory=False.\n",
      "\n",
      "2025-05-11 02:05:01,153 WARNING: DtypeWarning: Columns (5,7) have mixed types. Specify dtype option on import or set low_memory=False.\n",
      "\n",
      "2025-05-11 02:05:04,642 WARNING: DtypeWarning: Columns (5,7) have mixed types. Specify dtype option on import or set low_memory=False.\n",
      "\n",
      "2025-05-11 02:05:06,401 WARNING: DtypeWarning: Columns (5,7) have mixed types. Specify dtype option on import or set low_memory=False.\n",
      "\n",
      "2025-05-11 02:05:10,267 WARNING: DtypeWarning: Columns (5,7) have mixed types. Specify dtype option on import or set low_memory=False.\n",
      "\n",
      "2025-05-11 02:05:14,243 WARNING: DtypeWarning: Columns (5,7) have mixed types. Specify dtype option on import or set low_memory=False.\n",
      "\n",
      "2025-05-11 02:05:18,630 WARNING: DtypeWarning: Columns (5,7) have mixed types. Specify dtype option on import or set low_memory=False.\n",
      "\n",
      "2025-05-11 02:05:22,014 WARNING: DtypeWarning: Columns (5,7) have mixed types. Specify dtype option on import or set low_memory=False.\n",
      "\n",
      "2025-05-11 02:05:24,764 WARNING: DtypeWarning: Columns (5,7) have mixed types. Specify dtype option on import or set low_memory=False.\n",
      "\n",
      "2025-05-11 02:05:28,412 WARNING: DtypeWarning: Columns (5,7) have mixed types. Specify dtype option on import or set low_memory=False.\n",
      "\n",
      "2025-05-11 02:05:31,948 WARNING: DtypeWarning: Columns (5,7) have mixed types. Specify dtype option on import or set low_memory=False.\n",
      "\n",
      "2025-05-11 02:05:35,394 WARNING: DtypeWarning: Columns (5,7) have mixed types. Specify dtype option on import or set low_memory=False.\n",
      "\n",
      "2025-05-11 02:05:40,012 WARNING: DtypeWarning: Columns (5,7) have mixed types. Specify dtype option on import or set low_memory=False.\n",
      "\n",
      "2025-05-11 02:05:44,392 WARNING: DtypeWarning: Columns (5,7) have mixed types. Specify dtype option on import or set low_memory=False.\n",
      "\n",
      "2025-05-11 02:05:48,845 WARNING: DtypeWarning: Columns (5,7) have mixed types. Specify dtype option on import or set low_memory=False.\n",
      "\n",
      "2025-05-11 02:05:54,963 WARNING: DtypeWarning: Columns (5,7) have mixed types. Specify dtype option on import or set low_memory=False.\n",
      "\n",
      "2025-05-11 02:06:02,223 WARNING: DtypeWarning: Columns (5,7) have mixed types. Specify dtype option on import or set low_memory=False.\n",
      "\n",
      "2025-05-11 02:06:08,455 WARNING: DtypeWarning: Columns (5,7) have mixed types. Specify dtype option on import or set low_memory=False.\n",
      "\n",
      "2025-05-11 02:06:14,098 WARNING: DtypeWarning: Columns (5,7) have mixed types. Specify dtype option on import or set low_memory=False.\n",
      "\n",
      "2025-05-11 02:06:17,527 WARNING: DtypeWarning: Columns (5,7) have mixed types. Specify dtype option on import or set low_memory=False.\n",
      "\n",
      "2025-05-11 02:06:21,499 WARNING: DtypeWarning: Columns (5,7) have mixed types. Specify dtype option on import or set low_memory=False.\n",
      "\n",
      "2025-05-11 02:06:25,238 WARNING: DtypeWarning: Columns (5,7) have mixed types. Specify dtype option on import or set low_memory=False.\n",
      "\n",
      "2025-05-11 02:06:29,487 WARNING: DtypeWarning: Columns (5,7) have mixed types. Specify dtype option on import or set low_memory=False.\n",
      "\n",
      "2025-05-11 02:06:32,221 WARNING: DtypeWarning: Columns (5) have mixed types. Specify dtype option on import or set low_memory=False.\n",
      "\n",
      "2025-05-11 02:06:35,723 WARNING: DtypeWarning: Columns (5,7) have mixed types. Specify dtype option on import or set low_memory=False.\n",
      "\n",
      "2025-05-11 02:06:39,213 WARNING: DtypeWarning: Columns (5,7) have mixed types. Specify dtype option on import or set low_memory=False.\n",
      "\n",
      "2025-05-11 02:06:42,836 WARNING: DtypeWarning: Columns (5,7) have mixed types. Specify dtype option on import or set low_memory=False.\n",
      "\n",
      "2025-05-11 02:06:44,685 WARNING: DtypeWarning: Columns (5) have mixed types. Specify dtype option on import or set low_memory=False.\n",
      "\n",
      "2025-05-11 02:06:48,130 WARNING: DtypeWarning: Columns (7) have mixed types. Specify dtype option on import or set low_memory=False.\n",
      "\n",
      "2025-05-11 02:06:52,084 WARNING: DtypeWarning: Columns (7) have mixed types. Specify dtype option on import or set low_memory=False.\n",
      "\n",
      "2025-05-11 02:06:56,045 WARNING: DtypeWarning: Columns (5,7) have mixed types. Specify dtype option on import or set low_memory=False.\n",
      "\n",
      "2025-05-11 02:06:59,864 WARNING: DtypeWarning: Columns (7) have mixed types. Specify dtype option on import or set low_memory=False.\n",
      "\n",
      "2025-05-11 02:07:05,034 WARNING: DtypeWarning: Columns (5,7) have mixed types. Specify dtype option on import or set low_memory=False.\n",
      "\n",
      "2025-05-11 02:07:10,881 WARNING: DtypeWarning: Columns (7) have mixed types. Specify dtype option on import or set low_memory=False.\n",
      "\n",
      "2025-05-11 02:07:16,882 WARNING: DtypeWarning: Columns (7) have mixed types. Specify dtype option on import or set low_memory=False.\n",
      "\n",
      "2025-05-11 02:07:20,495 WARNING: DtypeWarning: Columns (7) have mixed types. Specify dtype option on import or set low_memory=False.\n",
      "\n",
      "2025-05-11 02:07:24,185 WARNING: DtypeWarning: Columns (7) have mixed types. Specify dtype option on import or set low_memory=False.\n",
      "\n",
      "2025-05-11 02:07:28,174 WARNING: DtypeWarning: Columns (5,7) have mixed types. Specify dtype option on import or set low_memory=False.\n",
      "\n",
      "2025-05-11 02:07:31,561 WARNING: DtypeWarning: Columns (7) have mixed types. Specify dtype option on import or set low_memory=False.\n",
      "\n",
      "2025-05-11 02:07:35,244 WARNING: DtypeWarning: Columns (7) have mixed types. Specify dtype option on import or set low_memory=False.\n",
      "\n",
      "2025-05-11 02:07:38,480 WARNING: DtypeWarning: Columns (5,7) have mixed types. Specify dtype option on import or set low_memory=False.\n",
      "\n",
      "2025-05-11 02:07:41,165 WARNING: DtypeWarning: Columns (7) have mixed types. Specify dtype option on import or set low_memory=False.\n",
      "\n",
      "2025-05-11 02:07:44,926 WARNING: DtypeWarning: Columns (7) have mixed types. Specify dtype option on import or set low_memory=False.\n",
      "\n",
      "2025-05-11 02:07:48,858 WARNING: DtypeWarning: Columns (7) have mixed types. Specify dtype option on import or set low_memory=False.\n",
      "\n",
      "2025-05-11 02:07:50,608 WARNING: DtypeWarning: Columns (7) have mixed types. Specify dtype option on import or set low_memory=False.\n",
      "\n",
      "2025-05-11 02:07:53,765 WARNING: DtypeWarning: Columns (7) have mixed types. Specify dtype option on import or set low_memory=False.\n",
      "\n",
      "2025-05-11 02:07:54,807 WARNING: DtypeWarning: Columns (7) have mixed types. Specify dtype option on import or set low_memory=False.\n",
      "\n",
      "2025-05-11 02:07:58,625 WARNING: DtypeWarning: Columns (7) have mixed types. Specify dtype option on import or set low_memory=False.\n",
      "\n",
      "2025-05-11 02:08:00,331 INFO: ✅ Loaded 410,344 rows of 2023 ride data.\n",
      "2025-05-11 02:08:00,338 INFO: 🧮 Aggregating to hourly time-series format …\n",
      "2025-05-11 02:08:00,700 INFO: 🔐 Logging in to Hopsworks …\n",
      "2025-05-11 02:08:00,700 INFO: Closing external client and cleaning up certificates.\n",
      "Connection closed.\n",
      "2025-05-11 02:08:00,707 INFO: Initializing external client\n",
      "2025-05-11 02:08:00,707 INFO: Base URL: https://c.app.hopsworks.ai:443\n",
      "2025-05-11 02:08:01,275 INFO: Python Engine initialized.\n",
      "\n",
      "Logged in to project, explore it here https://c.app.hopsworks.ai:443/p/1228962\n",
      "2025-05-11 02:08:01,749 INFO: 📦 Writing to Hopsworks feature group …\n"
     ]
    },
    {
     "name": "stderr",
     "output_type": "stream",
     "text": [
      "Uploading Dataframe: 100.00% |██████████| Rows 26535/26535 | Elapsed Time: 00:00 | Remaining Time: 00:00\n"
     ]
    },
    {
     "name": "stdout",
     "output_type": "stream",
     "text": [
      "Launching job: citibike_hourly_features_1_offline_fg_materialization\n",
      "Job started successfully, you can follow the progress at \n",
      "https://c.app.hopsworks.ai:443/p/1228962/jobs/named/citibike_hourly_features_1_offline_fg_materialization/executions\n",
      "2025-05-11 02:08:13,394 INFO: Waiting for execution to finish. Current state: SUBMITTED. Final status: UNDEFINED\n",
      "2025-05-11 02:08:16,486 INFO: Waiting for execution to finish. Current state: RUNNING. Final status: UNDEFINED\n",
      "2025-05-11 02:09:55,268 INFO: Waiting for execution to finish. Current state: SUCCEEDING. Final status: UNDEFINED\n",
      "2025-05-11 02:09:58,357 INFO: Waiting for execution to finish. Current state: AGGREGATING_LOGS. Final status: SUCCEEDED\n",
      "2025-05-11 02:09:58,421 INFO: Waiting for log aggregation to finish.\n",
      "2025-05-11 02:10:09,917 INFO: Execution finished successfully.\n",
      "2025-05-11 02:10:09,917 INFO: ✅ Done uploading data to Hopsworks!\n"
     ]
    }
   ],
   "source": [
    "# notebooks/create_full_feature_group.py\n",
    "import sys\n",
    "import os\n",
    "\n",
    "# Add root path to sys.path (adjust if needed)\n",
    "sys.path.append(os.path.abspath(os.path.join(os.getcwd(), \"..\")))\n",
    "\n",
    "from datetime import datetime, timedelta\n",
    "import logging\n",
    "import pandas as pd\n",
    "import hopsworks\n",
    "\n",
    "from src.data_utils import (\n",
    "    load_and_process_citibike_data_from_local,\n",
    "    transform_raw_data_into_ts_data,\n",
    ")\n",
    "import src.config as config\n",
    "from hsfs.feature import Feature\n",
    "\n",
    "# ─────────────────────────────────────────────────────\n",
    "# Logging setup\n",
    "# ─────────────────────────────────────────────────────\n",
    "logging.basicConfig(\n",
    "    level=logging.INFO,\n",
    "    format=\"%(asctime)s  %(levelname)s  %(message)s\",\n",
    "    handlers=[logging.StreamHandler(sys.stdout)]\n",
    ")\n",
    "logger = logging.getLogger(__name__)\n",
    "\n",
    "# ─────────────────────────────────────────────────────\n",
    "# 1. Load raw Citi Bike data (2023 only)\n",
    "# ─────────────────────────────────────────────────────\n",
    "logger.info(\"📅 Loading Citi Bike data from Jan to Dec 2023 …\")\n",
    "raw_rides = load_and_process_citibike_data_from_local(\n",
    "    year=2023,\n",
    "    months=list(range(1, 13)),\n",
    "    base_path=config.LOCAL_CITIBIKE_DATA_PATH,\n",
    ")\n",
    "logger.info(f\"✅ Loaded {len(raw_rides):,} rows of 2023 ride data.\")\n",
    "\n",
    "# ─────────────────────────────────────────────────────\n",
    "# 2. Transform raw data into hourly time-series\n",
    "# ─────────────────────────────────────────────────────\n",
    "logger.info(\"🧮 Aggregating to hourly time-series format …\")\n",
    "ts_data = transform_raw_data_into_ts_data(raw_rides)\n",
    "\n",
    "# ─────────────────────────────────────────────────────\n",
    "# 3. Log in to Hopsworks\n",
    "# ─────────────────────────────────────────────────────\n",
    "logger.info(\"🔐 Logging in to Hopsworks …\")\n",
    "project = hopsworks.login(\n",
    "    project=config.HOPSWORKS_PROJECT_NAME,\n",
    "    api_key_value=config.HOPSWORKS_API_KEY,\n",
    ")\n",
    "fs = project.get_feature_store()\n",
    "\n",
    "# ─────────────────────────────────────────────────────\n",
    "# 4. Define feature group schema (fixed schema)\n",
    "# ─────────────────────────────────────────────────────\n",
    "fg_schema = [\n",
    "    Feature(\"pickup_hour\", \"timestamp\"),\n",
    "    Feature(\"pickup_location_id\", \"string\"),\n",
    "    Feature(\"rides\", \"bigint\"),  # ← FIXED: now matches Hopsworks expected type\n",
    "]\n",
    "# ─────────────────────────────────────────────────────\n",
    "# 5. Create or update Hopsworks feature group\n",
    "# ─────────────────────────────────────────────────────\n",
    "logger.info(\"📦 Writing to Hopsworks feature group …\")\n",
    "hourly_fg = fs.get_or_create_feature_group(\n",
    "    name=\"citibike_hourly_features\",\n",
    "    version=1,\n",
    "    description=\"Hourly Citi Bike rides per location (2023)\",\n",
    "    primary_key=[\"pickup_hour\", \"pickup_location_id\"],\n",
    "    event_time=\"pickup_hour\",\n",
    "    online_enabled=False,\n",
    "    features=fg_schema,\n",
    ")\n",
    "\n",
    "# ✅ Ensure types match the schema\n",
    "ts_data[\"pickup_location_id\"] = ts_data[\"pickup_location_id\"].astype(str)\n",
    "ts_data[\"rides\"] = ts_data[\"rides\"].astype(\"int64\")  # ← FIXED: bigint = int64 in pandas\n",
    "\n",
    "# ─────────────────────────────────────────────────────\n",
    "# 6. Insert into feature store\n",
    "# ─────────────────────────────────────────────────────\n",
    "hourly_fg.insert(ts_data, write_options={\"wait_for_job\": True})\n",
    "logger.info(\"✅ Done uploading data to Hopsworks!\")\n"
   ]
  },
  {
   "cell_type": "markdown",
   "id": "d6f5cbde",
   "metadata": {},
   "source": []
  },
  {
   "cell_type": "code",
   "execution_count": null,
   "id": "efefaeeb",
   "metadata": {},
   "outputs": [],
   "source": []
  },
  {
   "cell_type": "code",
   "execution_count": null,
   "id": "158dfae3",
   "metadata": {},
   "outputs": [],
   "source": []
  },
  {
   "cell_type": "code",
   "execution_count": null,
   "id": "1d097c80",
   "metadata": {},
   "outputs": [],
   "source": []
  },
  {
   "cell_type": "code",
   "execution_count": null,
   "id": "23381e74",
   "metadata": {},
   "outputs": [],
   "source": []
  },
  {
   "cell_type": "code",
   "execution_count": null,
   "id": "8c20c8b0",
   "metadata": {},
   "outputs": [],
   "source": []
  },
  {
   "cell_type": "code",
   "execution_count": null,
   "id": "1266ff9b",
   "metadata": {},
   "outputs": [],
   "source": []
  },
  {
   "cell_type": "code",
   "execution_count": null,
   "id": "bc03aec7",
   "metadata": {},
   "outputs": [],
   "source": []
  },
  {
   "cell_type": "code",
   "execution_count": null,
   "id": "ecec2c9c",
   "metadata": {},
   "outputs": [],
   "source": []
  }
 ],
 "metadata": {
  "kernelspec": {
   "display_name": "venv",
   "language": "python",
   "name": "python3"
  },
  "language_info": {
   "codemirror_mode": {
    "name": "ipython",
    "version": 3
   },
   "file_extension": ".py",
   "mimetype": "text/x-python",
   "name": "python",
   "nbconvert_exporter": "python",
   "pygments_lexer": "ipython3",
   "version": "3.11.9"
  }
 },
 "nbformat": 4,
 "nbformat_minor": 5
}
