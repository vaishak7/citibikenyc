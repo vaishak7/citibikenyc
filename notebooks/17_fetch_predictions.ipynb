{
 "cells": [
  {
   "cell_type": "code",
   "execution_count": 1,
   "id": "1555e775-4045-409a-a2cd-b22934b5fe3b",
   "metadata": {},
   "outputs": [],
   "source": [
    "# %load_ext autoreload\n",
    "# %autoreload 2\n",
    "\n",
    "import sys\n",
    "import os\n",
    "import pandas as pd\n",
    "from datetime import datetime, timezone, timedelta\n",
    "\n",
    "# Add the parent directory to the Python path\n",
    "sys.path.append(os.path.abspath(os.path.join(os.getcwd(), \"..\")))\n",
    "\n",
    "import src.config as config\n",
    "from src.inference import get_feature_store\n"
   ]
  },
  {
   "cell_type": "code",
   "execution_count": 2,
   "id": "cbc6b2c6",
   "metadata": {},
   "outputs": [
    {
     "name": "stdout",
     "output_type": "stream",
     "text": [
      "📅 Using most recent available hour for predictions: 23\n"
     ]
    }
   ],
   "source": [
    "import pandas as pd\n",
    "\n",
    "df = pd.read_parquet(r\"C:\\Users\\VAISHAK\\OneDrive\\Desktop\\citibikenyc\\data\\raw\\rides_2023_01.parquet\")\n",
    "\n",
    "# Ensure 'started_at' is datetime\n",
    "df['started_at'] = pd.to_datetime(df['started_at'], errors='coerce')\n",
    "\n",
    "# If 'pickup_hour' is not already present\n",
    "if 'pickup_hour' not in df.columns:\n",
    "    df['pickup_hour'] = df['started_at'].dt.hour\n",
    "\n",
    "fixed_hour = df[\"pickup_hour\"].dropna().max()\n",
    "print(f\"📅 Using most recent available hour for predictions: {fixed_hour}\")\n"
   ]
  },
  {
   "cell_type": "code",
   "execution_count": 4,
   "id": "7cd6d4e8",
   "metadata": {},
   "outputs": [
    {
     "name": "stdout",
     "output_type": "stream",
     "text": [
      "2025-05-11 04:11:25,285 INFO: Initializing external client\n",
      "2025-05-11 04:11:25,289 INFO: Base URL: https://c.app.hopsworks.ai:443\n",
      "2025-05-11 04:11:26,218 INFO: Python Engine initialized.\n",
      "\n",
      "Logged in to project, explore it here https://c.app.hopsworks.ai:443/p/1228962\n",
      "Finished: Reading data from Hopsworks, using Hopsworks Feature Query Service (0.40s) \n"
     ]
    }
   ],
   "source": [
    "import hopsworks\n",
    "\n",
    "# 🔐 Authenticate with Hopsworks\n",
    "project = hopsworks.login()\n",
    "\n",
    "# 🌟 Get the feature store\n",
    "fs = project.get_feature_store()\n",
    "fg = fs.get_feature_group(\n",
    "    name=config.FEATURE_GROUP_MODEL_PREDICTION,\n",
    "    version=config.FEATURE_GROUP_MODEL_PREDICTION_VERSION\n",
    ")\n",
    "\n",
    "# 📦 Read and filter data\n",
    "df = fg.read()\n",
    "predictions = df[df[\"pickup_hour\"] == fixed_hour]\n"
   ]
  },
  {
   "cell_type": "code",
   "execution_count": 11,
   "id": "8e3d36b9",
   "metadata": {},
   "outputs": [
    {
     "name": "stdout",
     "output_type": "stream",
     "text": [
      "2025-05-11 04:19:36,064 INFO: Closing external client and cleaning up certificates.\n",
      "Connection closed.\n",
      "2025-05-11 04:19:36,078 INFO: Initializing external client\n",
      "2025-05-11 04:19:36,080 INFO: Base URL: https://c.app.hopsworks.ai:443\n",
      "2025-05-11 04:19:37,877 INFO: Python Engine initialized.\n",
      "\n",
      "Logged in to project, explore it here https://c.app.hopsworks.ai:443/p/1228962\n",
      "Finished: Reading data from Hopsworks, using Hopsworks Feature Query Service (0.42s) \n",
      "DataFrame columns: ['pickup_hour', 'prediction']\n",
      "DataFrame head:            pickup_hour  prediction\n",
      "0  2025-05-11 03:00:00         100\n",
      "1  2025-05-11 04:00:00         150\n",
      "Unique pickup_hour values: ['2025-05-11 03:00:00' '2025-05-11 04:00:00']\n",
      "DataFrame size: (2, 2)\n",
      "Filtered predictions:            pickup_hour  prediction\n",
      "0  2025-05-11 03:00:00         100\n",
      "           pickup_hour  prediction\n",
      "0  2025-05-11 03:00:00         100\n"
     ]
    }
   ],
   "source": [
    "import hopsworks\n",
    "import pandas as pd\n",
    "\n",
    "# Define feature group details\n",
    "FEATURE_GROUP_MODEL_PREDICTION = \"citi_bike_prediction\"\n",
    "FEATURE_GROUP_MODEL_PREDICTION_VERSION = 2\n",
    "\n",
    "# 🔐 Authenticate with Hopsworks\n",
    "project = hopsworks.login()\n",
    "\n",
    "# 🌟 Get the feature store\n",
    "fs = project.get_feature_store()\n",
    "\n",
    "# Verify feature group\n",
    "fg = fs.get_feature_group(\n",
    "    name=FEATURE_GROUP_MODEL_PREDICTION,\n",
    "    version=FEATURE_GROUP_MODEL_PREDICTION_VERSION\n",
    ")\n",
    "\n",
    "if fg is None:\n",
    "    print(f\"Feature group {FEATURE_GROUP_MODEL_PREDICTION} (version {FEATURE_GROUP_MODEL_PREDICTION_VERSION}) not found\")\n",
    "    feature_groups = fs.get_feature_groups()\n",
    "    for fg in feature_groups:\n",
    "        print(f\"Name: {fg.name}, Version: {fg.version}\")\n",
    "    raise ValueError(\"Feature group not found\")\n",
    "\n",
    "# 📦 Read data\n",
    "df = fg.read()\n",
    "print(\"DataFrame columns:\", df.columns.tolist())  # Debug: Confirm columns\n",
    "print(\"DataFrame head:\", df.head())  # Debug: Inspect data\n",
    "print(\"Unique pickup_hour values:\", df[\"pickup_hour\"].unique())  # Debug: Check available pickup_hour\n",
    "print(\"DataFrame size:\", df.shape)  # Debug: Check if DataFrame is empty\n",
    "\n",
    "if df.empty:\n",
    "    raise ValueError(\"Feature group contains no data\")\n",
    "\n",
    "# Filter data\n",
    "fixed_hour = \"2025-05-11 03:00:00\"  # Matches a value from df[\"pickup_hour\"].unique()\n",
    "predictions = df[df[\"pickup_hour\"] == fixed_hour]\n",
    "print(\"Filtered predictions:\", predictions)  # Debug: Check filtered data\n",
    "\n",
    "if predictions.empty:\n",
    "    print(f\"No data found for pickup_hour = {fixed_hour}\")\n",
    "    print(\"Unique pickup_hour values:\", df[\"pickup_hour\"].unique())\n",
    "    raise ValueError(\"No matching data for specified pickup_hour\")\n",
    "\n",
    "# Sort and select top locations\n",
    "top_locations = predictions.sort_values(\"prediction\", ascending=False)\n",
    "print(top_locations[[\"pickup_hour\", \"prediction\"]].head(10))"
   ]
  },
  {
   "cell_type": "code",
   "execution_count": null,
   "id": "dc350c61",
   "metadata": {},
   "outputs": [],
   "source": []
  },
  {
   "cell_type": "code",
   "execution_count": null,
   "id": "34253868",
   "metadata": {},
   "outputs": [],
   "source": []
  },
  {
   "cell_type": "code",
   "execution_count": null,
   "id": "5370e327",
   "metadata": {},
   "outputs": [],
   "source": []
  },
  {
   "cell_type": "code",
   "execution_count": null,
   "id": "3db00ebd",
   "metadata": {},
   "outputs": [],
   "source": []
  },
  {
   "cell_type": "code",
   "execution_count": null,
   "id": "a9ccc889",
   "metadata": {},
   "outputs": [],
   "source": []
  },
  {
   "cell_type": "code",
   "execution_count": null,
   "id": "9224b120",
   "metadata": {},
   "outputs": [],
   "source": []
  }
 ],
 "metadata": {
  "kernelspec": {
   "display_name": "venv",
   "language": "python",
   "name": "python3"
  },
  "language_info": {
   "codemirror_mode": {
    "name": "ipython",
    "version": 3
   },
   "file_extension": ".py",
   "mimetype": "text/x-python",
   "name": "python",
   "nbconvert_exporter": "python",
   "pygments_lexer": "ipython3",
   "version": "3.11.9"
  }
 },
 "nbformat": 4,
 "nbformat_minor": 5
}
