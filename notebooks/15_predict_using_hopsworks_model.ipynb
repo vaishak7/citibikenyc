{
 "cells": [
  {
   "cell_type": "code",
   "execution_count": 1,
   "id": "10a142f3",
   "metadata": {},
   "outputs": [],
   "source": [
    "# %load_ext autoreload\n",
    "# %autoreload 2\n",
    "\n",
    "import sys\n",
    "import os\n",
    "from datetime import datetime, timedelta\n",
    "import pandas as pd\n",
    "\n",
    "# Add project root to Python path\n",
    "sys.path.append(os.path.abspath(os.path.join(os.getcwd(), \"..\")))\n",
    "\n",
    "import src.config as config\n",
    "from src.inference import get_feature_store, load_model_from_registry, get_model_predictions\n",
    "from src.data_utils import transform_ts_data_info_features\n"
   ]
  },
  {
   "cell_type": "code",
   "execution_count": 2,
   "id": "2cb7c771",
   "metadata": {},
   "outputs": [
    {
     "name": "stdout",
     "output_type": "stream",
     "text": [
      "2025-05-11 02:41:15,994 WARNING: PydanticDeprecatedSince20: Support for class-based `config` is deprecated, use ConfigDict instead. Deprecated in Pydantic V2.0 to be removed in V3.0. See Pydantic V2 Migration Guide at https://errors.pydantic.dev/2.11/migration/\n",
      "\n"
     ]
    },
    {
     "name": "stderr",
     "output_type": "stream",
     "text": [
      "2025/05/11 02:41:16 INFO mlflow.tracking.fluent: Experiment with name 'xgboost-lag3' does not exist. Creating a new experiment.\n"
     ]
    },
    {
     "name": "stdout",
     "output_type": "stream",
     "text": [
      "🔐 Logging in to Hopsworks...\n",
      "2025-05-11 02:41:16,700 INFO: Initializing external client\n",
      "2025-05-11 02:41:16,700 INFO: Base URL: https://c.app.hopsworks.ai:443\n",
      "2025-05-11 02:41:17,474 INFO: Python Engine initialized.\n",
      "\n",
      "Logged in to project, explore it here https://c.app.hopsworks.ai:443/p/1228962\n",
      "Finished: Reading data from Hopsworks, using Hopsworks Feature Query Service (0.91s) \n",
      "✅ Loaded features: (26535, 3)\n"
     ]
    }
   ],
   "source": [
    "import pandas as pd\n",
    "import numpy as np\n",
    "import joblib\n",
    "import mlflow\n",
    "import hopsworks\n",
    "from sklearn.metrics import mean_squared_error, mean_absolute_error\n",
    "from xgboost import XGBRegressor\n",
    "from datetime import timedelta\n",
    "\n",
    "from src import config as c\n",
    "from src.pipeline_utils import create_lag_features\n",
    "mlflow.set_experiment(\"xgboost-lag3\")\n",
    "\n",
    "# Step 2: Load Features from Hopsworks\n",
    "print(\"🔐 Logging in to Hopsworks...\")\n",
    "project = hopsworks.login(project=c.HOPSWORKS_PROJECT_NAME, api_key_value=c.HOPSWORKS_API_KEY)\n",
    "fs = project.get_feature_store()\n",
    "\n",
    "fg = fs.get_feature_group(name=c.FEATURE_GROUP_NAME, version=c.FEATURE_GROUP_VERSION)\n",
    "df = fg.read()\n",
    "print(\"✅ Loaded features:\", df.shape)"
   ]
  },
  {
   "cell_type": "code",
   "execution_count": 3,
   "id": "e8460881",
   "metadata": {},
   "outputs": [
    {
     "name": "stdout",
     "output_type": "stream",
     "text": [
      "✅ Data with lags: (26526, 6)\n"
     ]
    }
   ],
   "source": [
    "# Step 3: Preprocess Features (create lags)\n",
    "df = df.sort_values([\"pickup_location_id\", \"pickup_hour\"])\n",
    "df = create_lag_features(df, lags=[1, 2, 3], group_col=\"pickup_location_id\", target_col=\"rides\")\n",
    "df = df.dropna()\n",
    "print(\"✅ Data with lags:\", df.shape)"
   ]
  },
  {
   "cell_type": "code",
   "execution_count": 4,
   "id": "9b33d49e",
   "metadata": {},
   "outputs": [],
   "source": [
    "# Step 4: Train/Test Split (last 7 days as test)\n",
    "df[\"pickup_hour\"] = pd.to_datetime(df[\"pickup_hour\"])\n",
    "max_date = df.pickup_hour.max()\n",
    "split_date = max_date - timedelta(days=7)\n",
    "train_df = df[df.pickup_hour < split_date]\n",
    "test_df = df[df.pickup_hour >= split_date]\n",
    "\n",
    "X_train = train_df[[\"rides_t-1\", \"rides_t-2\", \"rides_t-3\"]]\n",
    "y_train = train_df[\"rides\"]\n",
    "X_test = test_df[[\"rides_t-1\", \"rides_t-2\", \"rides_t-3\"]]\n",
    "y_test = test_df[\"rides\"]"
   ]
  },
  {
   "cell_type": "code",
   "execution_count": 6,
   "id": "1e6e1942",
   "metadata": {},
   "outputs": [
    {
     "name": "stdout",
     "output_type": "stream",
     "text": [
      "2025-05-11 02:42:54,698 WARNING: PydanticDeprecatedSince20: `min_items` is deprecated and will be removed, use `min_length` instead. Deprecated in Pydantic V2.0 to be removed in V3.0. See Pydantic V2 Migration Guide at https://errors.pydantic.dev/2.11/migration/\n",
      "\n"
     ]
    },
    {
     "name": "stderr",
     "output_type": "stream",
     "text": [
      "2025/05/11 02:43:01 WARNING mlflow.models.model: Model logged without a signature and input example. Please set `input_example` parameter when logging the model to auto infer the model signature.\n"
     ]
    },
    {
     "name": "stdout",
     "output_type": "stream",
     "text": [
      "🏃 View run delicate-bat-91 at: https://dagshub.com/vaishak7026/citibikenyc.mlflow/#/experiments/6/runs/cda1822722734ee5be93a9458e7de592\n",
      "🧪 View experiment at: https://dagshub.com/vaishak7026/citibikenyc.mlflow/#/experiments/6\n",
      "✅ Model trained. RMSE: 6.688097953796387 MAE: 4.604500770568848\n"
     ]
    }
   ],
   "source": [
    "import mlflow\n",
    "import joblib\n",
    "from xgboost import XGBRegressor\n",
    "from sklearn.metrics import mean_squared_error, mean_absolute_error, root_mean_squared_error\n",
    "import numpy as np\n",
    "\n",
    "mlflow.set_experiment(\"xgboost-lag3\")\n",
    "with mlflow.start_run():\n",
    "    model = XGBRegressor(n_estimators=100, learning_rate=0.1, random_state=42)\n",
    "    model.fit(X_train, y_train)\n",
    "\n",
    "    preds = model.predict(X_test)\n",
    "    # Use root_mean_squared_error or compute RMSE manually\n",
    "    rmse = root_mean_squared_error(y_test, preds)  # Preferred method (scikit-learn 1.4+)\n",
    "    # Alternatively: rmse = np.sqrt(mean_squared_error(y_test, preds))\n",
    "    mae = mean_absolute_error(y_test, preds)\n",
    "\n",
    "    mlflow.log_param(\"model_type\", \"XGBoost\")\n",
    "    mlflow.log_param(\"n_estimators\", 100)\n",
    "    mlflow.log_param(\"learning_rate\", 0.1)\n",
    "    mlflow.log_metric(\"rmse\", rmse)\n",
    "    mlflow.log_metric(\"mae\", mae)\n",
    "\n",
    "    # Save model\n",
    "    model_path = c.MODELS_DIR / \"xgb_model.pkl\"\n",
    "    joblib.dump(model, model_path)\n",
    "    mlflow.sklearn.log_model(model, \"model\")\n",
    "\n",
    "print(\"✅ Model trained. RMSE:\", rmse, \"MAE:\", mae)"
   ]
  },
  {
   "cell_type": "code",
   "execution_count": 7,
   "id": "72f3ef4b",
   "metadata": {},
   "outputs": [
    {
     "name": "stdout",
     "output_type": "stream",
     "text": [
      "✅ Model trained. RMSE: 6.688097953796387 MAE: 4.604500770568848\n"
     ]
    }
   ],
   "source": [
    "print(\"✅ Model trained. RMSE:\", rmse, \"MAE:\", mae)"
   ]
  },
  {
   "cell_type": "code",
   "execution_count": 8,
   "id": "af604219",
   "metadata": {},
   "outputs": [
    {
     "name": "stdout",
     "output_type": "stream",
     "text": [
      "2025-05-11 02:43:14,303 WARNING: ProvenanceWarning: Model schema cannot not be inferred without both the feature view and the training dataset version.\n",
      "\n"
     ]
    },
    {
     "data": {
      "application/vnd.jupyter.widget-view+json": {
       "model_id": "6f86663f098143e6bccaa58d332cbbf0",
       "version_major": 2,
       "version_minor": 0
      },
      "text/plain": [
       "  0%|          | 0/6 [00:00<?, ?it/s]"
      ]
     },
     "metadata": {},
     "output_type": "display_data"
    },
    {
     "data": {
      "application/vnd.jupyter.widget-view+json": {
       "model_id": "159312d83056400db31e01cc0354a8a9",
       "version_major": 2,
       "version_minor": 0
      },
      "text/plain": [
       "Uploading C:\\Users\\VAISHAK\\OneDrive\\Desktop\\citibikenyc\\models\\xgb_model.pkl: 0.000%|          | 0/399552 elap…"
      ]
     },
     "metadata": {},
     "output_type": "display_data"
    },
    {
     "name": "stdout",
     "output_type": "stream",
     "text": [
      "Model created, explore it at https://c.app.hopsworks.ai:443/p/1228962/models/citi_bike_data/1\n",
      "📦 Model registered in Hopsworks: citi_bike_data\n"
     ]
    }
   ],
   "source": [
    "# Step 6: Register Model in Hopsworks\n",
    "mr = project.get_model_registry()\n",
    "\n",
    "model_hops = mr.python.create_model(\n",
    "    name=c.MODEL_NAME,\n",
    "    metrics={\"rmse\": rmse},\n",
    "    description=\"XGBoost model trained on lag features\"\n",
    ")\n",
    "\n",
    "# ✅ Add this to upload the model file\n",
    "model_hops.save(str(model_path))\n",
    "\n",
    "print(\"📦 Model registered in Hopsworks:\", model_hops.name)\n"
   ]
  },
  {
   "cell_type": "code",
   "execution_count": 9,
   "id": "b2d2a6cd",
   "metadata": {},
   "outputs": [
    {
     "data": {
      "application/vnd.jupyter.widget-view+json": {
       "model_id": "dcca31ad70694607b19a32abca0940b2",
       "version_major": 2,
       "version_minor": 0
      },
      "text/plain": [
       "  0%|          | 0/6 [00:00<?, ?it/s]"
      ]
     },
     "metadata": {},
     "output_type": "display_data"
    },
    {
     "data": {
      "application/vnd.jupyter.widget-view+json": {
       "model_id": "b393af86a11a4f5498d5cdd81295dc16",
       "version_major": 2,
       "version_minor": 0
      },
      "text/plain": [
       "Uploading C:\\Users\\VAISHAK\\OneDrive\\Desktop\\citibikenyc\\models\\xgb_model.pkl: 0.000%|          | 0/399552 elap…"
      ]
     },
     "metadata": {},
     "output_type": "display_data"
    },
    {
     "name": "stdout",
     "output_type": "stream",
     "text": [
      "Model created, explore it at https://c.app.hopsworks.ai:443/p/1228962/models/citi_bike_data/2\n",
      "📦 Model registered in Hopsworks: citi_bike_data\n"
     ]
    }
   ],
   "source": [
    "# Step 6: Register Model in Hopsworks\n",
    "mr = project.get_model_registry()\n",
    "\n",
    "model_hops = mr.python.create_model(\n",
    "    name=c.MODEL_NAME,\n",
    "    metrics={\"mae\": mae},\n",
    "    description=\"XGBoost model trained on lag features\"\n",
    ")\n",
    "\n",
    "# ✅ Add this to upload the model file\n",
    "model_hops.save(str(model_path))\n",
    "\n",
    "print(\"📦 Model registered in Hopsworks:\", model_hops.name)\n"
   ]
  },
  {
   "cell_type": "code",
   "execution_count": null,
   "id": "83c1da0a",
   "metadata": {},
   "outputs": [],
   "source": []
  },
  {
   "cell_type": "code",
   "execution_count": null,
   "id": "5109c629",
   "metadata": {},
   "outputs": [],
   "source": []
  },
  {
   "cell_type": "code",
   "execution_count": null,
   "id": "30220b2d",
   "metadata": {},
   "outputs": [],
   "source": []
  },
  {
   "cell_type": "code",
   "execution_count": null,
   "id": "2680f0e5",
   "metadata": {},
   "outputs": [],
   "source": []
  },
  {
   "cell_type": "code",
   "execution_count": null,
   "id": "9d412dab",
   "metadata": {},
   "outputs": [],
   "source": []
  },
  {
   "cell_type": "code",
   "execution_count": null,
   "id": "882d58a4",
   "metadata": {},
   "outputs": [],
   "source": []
  },
  {
   "cell_type": "code",
   "execution_count": null,
   "id": "0486254c",
   "metadata": {},
   "outputs": [],
   "source": []
  },
  {
   "cell_type": "code",
   "execution_count": null,
   "id": "46f023bf",
   "metadata": {},
   "outputs": [],
   "source": []
  },
  {
   "cell_type": "code",
   "execution_count": null,
   "id": "45a74f83",
   "metadata": {},
   "outputs": [],
   "source": []
  },
  {
   "cell_type": "code",
   "execution_count": null,
   "id": "374100ef",
   "metadata": {},
   "outputs": [],
   "source": []
  },
  {
   "cell_type": "code",
   "execution_count": null,
   "id": "eba0a6a2",
   "metadata": {},
   "outputs": [],
   "source": []
  },
  {
   "cell_type": "code",
   "execution_count": null,
   "id": "68913078",
   "metadata": {},
   "outputs": [],
   "source": []
  },
  {
   "cell_type": "code",
   "execution_count": null,
   "id": "d6396a90",
   "metadata": {},
   "outputs": [],
   "source": []
  },
  {
   "cell_type": "code",
   "execution_count": null,
   "id": "472ebf8b",
   "metadata": {},
   "outputs": [],
   "source": []
  }
 ],
 "metadata": {
  "kernelspec": {
   "display_name": "venv",
   "language": "python",
   "name": "python3"
  },
  "language_info": {
   "codemirror_mode": {
    "name": "ipython",
    "version": 3
   },
   "file_extension": ".py",
   "mimetype": "text/x-python",
   "name": "python",
   "nbconvert_exporter": "python",
   "pygments_lexer": "ipython3",
   "version": "3.11.9"
  }
 },
 "nbformat": 4,
 "nbformat_minor": 5
}
